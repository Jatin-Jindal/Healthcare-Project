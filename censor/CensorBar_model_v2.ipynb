{
 "cells": [
  {
   "cell_type": "code",
   "execution_count": 1,
   "id": "b033ebaf",
   "metadata": {},
   "outputs": [],
   "source": [
    "import cv2\n",
    "import torch\n",
    "from matplotlib import pyplot\n",
    "from mtcnn.mtcnn import MTCNN\n",
    "import numpy as np"
   ]
  },
  {
   "cell_type": "code",
   "execution_count": 2,
   "id": "caf29582",
   "metadata": {},
   "outputs": [],
   "source": [
    "#slope of the line\n",
    "def slope(x1, y1, x2, y2):\n",
    "    if(x2 - x1 != 0):\n",
    "      return (float)(y2-y1)/(x2-x1)\n",
    "    return sys.maxint"
   ]
  },
  {
   "cell_type": "code",
   "execution_count": 3,
   "id": "24bc3411",
   "metadata": {},
   "outputs": [],
   "source": [
    "#finding y-coordinates\n",
    "def coord(x, x1, y1, m):\n",
    "    return abs((x*m)-(x1*m)-y1)"
   ]
  },
  {
   "cell_type": "code",
   "execution_count": 4,
   "id": "46a9ed80",
   "metadata": {},
   "outputs": [],
   "source": [
    "def censor(img, result_list):\n",
    "    data = img\n",
    "    for result in result_list:\n",
    "        if result['confidence']>=0.9:\n",
    "                  x,y,w,h = result['box']\n",
    "#         cv2.rectangle(data,(x,y),(x+w, y+h), (0,255,0), 2)\n",
    "    \n",
    "#     x,y,w,h = result_list['box']\n",
    "\n",
    "    # generating new co-ordinates for extention from the eyes\n",
    "    main_x = [x, x+w]\n",
    "    main_y = []\n",
    "    \n",
    "    #obtaining mid point\n",
    "#     p1 = result.get(\"keypoints\")\n",
    "#     q1 = p1.get(\"left_eye\")\n",
    "#     q2 = p1.get(\"right_eye\")\n",
    "#     mid_x = (q1[0]+q2[0]) / 2\n",
    "#     mid_y = (q1[1]+q2[1]) / 2\n",
    "#     mid = (mid_x, mid_y)\n",
    "    \n",
    "    #intial eye Coordinates\n",
    "    cx = []\n",
    "    cy = []\n",
    "    \n",
    "    #obtaining the eyes' co-ordinates\n",
    "    for key, value in result['keypoints'].items():\n",
    "        if key == 'left_eye' or key == 'right_eye':\n",
    "            cx.append(value[0])\n",
    "            cy.append(value[1])\n",
    "            cv2.circle(data, value, 2, (0, 255, 0))\n",
    "    \n",
    "    #obtaining the slope      \n",
    "    m = slope(cx[0],cy[0],cx[1],cy[1])\n",
    "    print(m)\n",
    "    for i in main_x:\n",
    "         main_y.append(coord(i, cx[0], cy[0], m))\n",
    "    main_y.reverse()\n",
    "    print(main_x, main_y)\n",
    "    \n",
    "    #adding censor bar\n",
    "    cv2.line(data, (int(main_x[0]), int(main_y[0])), (int(main_x[1]), int(main_y[1])), (0,0,0), 55)\n",
    "    \n",
    "    return data"
   ]
  },
  {
   "cell_type": "code",
   "execution_count": 14,
   "id": "900dc0f9",
   "metadata": {},
   "outputs": [
    {
     "name": "stdout",
     "output_type": "stream",
     "text": [
      "0.1774193548387097\n",
      "[443, 574] [254.4516129032258, 277.69354838709677]\n"
     ]
    }
   ],
   "source": [
    "#Loading image\n",
    "file = \"D:/Programming/HC Project/img_test/sample4.jpg\"\n",
    "img = cv2.imread(file)\n",
    "img = cv2.resize(img, (1024, 768), interpolation = cv2.INTER_AREA)\n",
    "#Using MTCNN pretrained model for face detection and feature mapping. \n",
    "detector = MTCNN()\n",
    "faces = detector.detect_faces(img)\n",
    "#Applying CensorBar to the image.\n",
    "data = censor(img, faces)"
   ]
  },
  {
   "cell_type": "code",
   "execution_count": 15,
   "id": "d0906129",
   "metadata": {},
   "outputs": [],
   "source": [
    "cv2.imshow('censored', img)\n",
    "cv2.waitKey(0)\n",
    "cv2.destroyAllWindows()"
   ]
  }
 ],
 "metadata": {
  "kernelspec": {
   "display_name": "Python 3 (ipykernel)",
   "language": "python",
   "name": "python3"
  },
  "language_info": {
   "codemirror_mode": {
    "name": "ipython",
    "version": 3
   },
   "file_extension": ".py",
   "mimetype": "text/x-python",
   "name": "python",
   "nbconvert_exporter": "python",
   "pygments_lexer": "ipython3",
   "version": "3.10.2"
  }
 },
 "nbformat": 4,
 "nbformat_minor": 5
}
