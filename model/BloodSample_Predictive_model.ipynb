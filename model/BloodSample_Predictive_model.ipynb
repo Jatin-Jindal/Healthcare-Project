{
 "cells": [
  {
   "cell_type": "code",
   "execution_count": 1,
   "id": "bce999b4",
   "metadata": {},
   "outputs": [],
   "source": [
    "# The current model is not build to distinguish the blood component difference of male and female \n",
    "import pandas as pd\n",
    "import numpy as np\n",
    "\n",
    "from __future__ import print_function\n",
    "import matplotlib.pyplot as plt\n",
    "import seaborn as sns\n",
    "from sklearn.metrics import classification_report\n",
    "from sklearn import metrics\n",
    "from sklearn import tree\n",
    "import warnings\n",
    "warnings.filterwarnings('ignore')"
   ]
  },
  {
   "cell_type": "code",
   "execution_count": 2,
   "id": "9a9d2bb7",
   "metadata": {},
   "outputs": [],
   "source": [
    "data_blood = pd.read_csv(\"D:/Programming/HC Project/Dataset/Dataset_Compiled - Blood Test.csv\")"
   ]
  },
  {
   "cell_type": "code",
   "execution_count": 3,
   "id": "9fc5536d",
   "metadata": {
    "scrolled": false
   },
   "outputs": [
    {
     "data": {
      "text/html": [
       "<div>\n",
       "<style scoped>\n",
       "    .dataframe tbody tr th:only-of-type {\n",
       "        vertical-align: middle;\n",
       "    }\n",
       "\n",
       "    .dataframe tbody tr th {\n",
       "        vertical-align: top;\n",
       "    }\n",
       "\n",
       "    .dataframe thead th {\n",
       "        text-align: right;\n",
       "    }\n",
       "</style>\n",
       "<table border=\"1\" class=\"dataframe\">\n",
       "  <thead>\n",
       "    <tr style=\"text-align: right;\">\n",
       "      <th></th>\n",
       "      <th>Gender</th>\n",
       "      <th>Red blood cell(RBC) count</th>\n",
       "      <th>Hemoglobin (Hb)</th>\n",
       "      <th>Hematocrit</th>\n",
       "      <th>Mean corpuscular volume (MCV)</th>\n",
       "      <th>Mean corpuscular hemoglobin (MCH)</th>\n",
       "      <th>Platelet count</th>\n",
       "      <th>White blood cell (WBC) count</th>\n",
       "      <th>Predictions</th>\n",
       "    </tr>\n",
       "  </thead>\n",
       "  <tbody>\n",
       "    <tr>\n",
       "      <th>0</th>\n",
       "      <td>Female</td>\n",
       "      <td>6.04</td>\n",
       "      <td>12.70</td>\n",
       "      <td>39.92</td>\n",
       "      <td>95.68</td>\n",
       "      <td>21.68</td>\n",
       "      <td>516</td>\n",
       "      <td>10649</td>\n",
       "      <td>1</td>\n",
       "    </tr>\n",
       "    <tr>\n",
       "      <th>1</th>\n",
       "      <td>Female</td>\n",
       "      <td>4.72</td>\n",
       "      <td>12.07</td>\n",
       "      <td>45.02</td>\n",
       "      <td>78.62</td>\n",
       "      <td>26.83</td>\n",
       "      <td>560</td>\n",
       "      <td>6525</td>\n",
       "      <td>1</td>\n",
       "    </tr>\n",
       "    <tr>\n",
       "      <th>2</th>\n",
       "      <td>Male</td>\n",
       "      <td>4.87</td>\n",
       "      <td>13.85</td>\n",
       "      <td>40.60</td>\n",
       "      <td>83.00</td>\n",
       "      <td>31.00</td>\n",
       "      <td>154</td>\n",
       "      <td>8763</td>\n",
       "      <td>0</td>\n",
       "    </tr>\n",
       "    <tr>\n",
       "      <th>3</th>\n",
       "      <td>Male</td>\n",
       "      <td>4.66</td>\n",
       "      <td>16.32</td>\n",
       "      <td>41.90</td>\n",
       "      <td>87.00</td>\n",
       "      <td>29.00</td>\n",
       "      <td>382</td>\n",
       "      <td>5851</td>\n",
       "      <td>0</td>\n",
       "    </tr>\n",
       "    <tr>\n",
       "      <th>4</th>\n",
       "      <td>Male</td>\n",
       "      <td>4.39</td>\n",
       "      <td>13.46</td>\n",
       "      <td>43.60</td>\n",
       "      <td>75.40</td>\n",
       "      <td>23.30</td>\n",
       "      <td>514</td>\n",
       "      <td>6360</td>\n",
       "      <td>1</td>\n",
       "    </tr>\n",
       "  </tbody>\n",
       "</table>\n",
       "</div>"
      ],
      "text/plain": [
       "   Gender  Red blood cell(RBC) count  Hemoglobin (Hb)  Hematocrit  \\\n",
       "0  Female                       6.04            12.70       39.92   \n",
       "1  Female                       4.72            12.07       45.02   \n",
       "2    Male                       4.87            13.85       40.60   \n",
       "3    Male                       4.66            16.32       41.90   \n",
       "4    Male                       4.39            13.46       43.60   \n",
       "\n",
       "   Mean corpuscular volume (MCV)  Mean corpuscular hemoglobin (MCH)  \\\n",
       "0                          95.68                              21.68   \n",
       "1                          78.62                              26.83   \n",
       "2                          83.00                              31.00   \n",
       "3                          87.00                              29.00   \n",
       "4                          75.40                              23.30   \n",
       "\n",
       "   Platelet count  White blood cell (WBC) count  Predictions  \n",
       "0             516                         10649            1  \n",
       "1             560                          6525            1  \n",
       "2             154                          8763            0  \n",
       "3             382                          5851            0  \n",
       "4             514                          6360            1  "
      ]
     },
     "execution_count": 3,
     "metadata": {},
     "output_type": "execute_result"
    }
   ],
   "source": [
    "data_blood.head()"
   ]
  },
  {
   "cell_type": "code",
   "execution_count": 4,
   "id": "cebaebdf",
   "metadata": {
    "scrolled": false
   },
   "outputs": [
    {
     "data": {
      "text/html": [
       "<div>\n",
       "<style scoped>\n",
       "    .dataframe tbody tr th:only-of-type {\n",
       "        vertical-align: middle;\n",
       "    }\n",
       "\n",
       "    .dataframe tbody tr th {\n",
       "        vertical-align: top;\n",
       "    }\n",
       "\n",
       "    .dataframe thead th {\n",
       "        text-align: right;\n",
       "    }\n",
       "</style>\n",
       "<table border=\"1\" class=\"dataframe\">\n",
       "  <thead>\n",
       "    <tr style=\"text-align: right;\">\n",
       "      <th></th>\n",
       "      <th>Gender</th>\n",
       "      <th>Red blood cell(RBC) count</th>\n",
       "      <th>Hemoglobin (Hb)</th>\n",
       "      <th>Hematocrit</th>\n",
       "      <th>Mean corpuscular volume (MCV)</th>\n",
       "      <th>Mean corpuscular hemoglobin (MCH)</th>\n",
       "      <th>Platelet count</th>\n",
       "      <th>White blood cell (WBC) count</th>\n",
       "      <th>Predictions</th>\n",
       "    </tr>\n",
       "  </thead>\n",
       "  <tbody>\n",
       "    <tr>\n",
       "      <th>1010</th>\n",
       "      <td>Female</td>\n",
       "      <td>4.70</td>\n",
       "      <td>16.51</td>\n",
       "      <td>45.7</td>\n",
       "      <td>93.0</td>\n",
       "      <td>27.0</td>\n",
       "      <td>177</td>\n",
       "      <td>5679</td>\n",
       "      <td>0</td>\n",
       "    </tr>\n",
       "    <tr>\n",
       "      <th>1011</th>\n",
       "      <td>Male</td>\n",
       "      <td>4.14</td>\n",
       "      <td>14.43</td>\n",
       "      <td>45.3</td>\n",
       "      <td>90.0</td>\n",
       "      <td>27.0</td>\n",
       "      <td>326</td>\n",
       "      <td>8053</td>\n",
       "      <td>0</td>\n",
       "    </tr>\n",
       "    <tr>\n",
       "      <th>1012</th>\n",
       "      <td>Male</td>\n",
       "      <td>4.35</td>\n",
       "      <td>12.61</td>\n",
       "      <td>40.8</td>\n",
       "      <td>66.6</td>\n",
       "      <td>20.3</td>\n",
       "      <td>779</td>\n",
       "      <td>11535</td>\n",
       "      <td>1</td>\n",
       "    </tr>\n",
       "    <tr>\n",
       "      <th>1013</th>\n",
       "      <td>Male</td>\n",
       "      <td>4.91</td>\n",
       "      <td>12.77</td>\n",
       "      <td>39.5</td>\n",
       "      <td>87.0</td>\n",
       "      <td>29.0</td>\n",
       "      <td>321</td>\n",
       "      <td>5510</td>\n",
       "      <td>0</td>\n",
       "    </tr>\n",
       "    <tr>\n",
       "      <th>1014</th>\n",
       "      <td>Female</td>\n",
       "      <td>4.08</td>\n",
       "      <td>16.52</td>\n",
       "      <td>49.5</td>\n",
       "      <td>82.0</td>\n",
       "      <td>28.0</td>\n",
       "      <td>172</td>\n",
       "      <td>7039</td>\n",
       "      <td>0</td>\n",
       "    </tr>\n",
       "  </tbody>\n",
       "</table>\n",
       "</div>"
      ],
      "text/plain": [
       "      Gender  Red blood cell(RBC) count  Hemoglobin (Hb)  Hematocrit  \\\n",
       "1010  Female                       4.70            16.51        45.7   \n",
       "1011    Male                       4.14            14.43        45.3   \n",
       "1012    Male                       4.35            12.61        40.8   \n",
       "1013    Male                       4.91            12.77        39.5   \n",
       "1014  Female                       4.08            16.52        49.5   \n",
       "\n",
       "      Mean corpuscular volume (MCV)  Mean corpuscular hemoglobin (MCH)  \\\n",
       "1010                           93.0                               27.0   \n",
       "1011                           90.0                               27.0   \n",
       "1012                           66.6                               20.3   \n",
       "1013                           87.0                               29.0   \n",
       "1014                           82.0                               28.0   \n",
       "\n",
       "      Platelet count  White blood cell (WBC) count  Predictions  \n",
       "1010             177                          5679            0  \n",
       "1011             326                          8053            0  \n",
       "1012             779                         11535            1  \n",
       "1013             321                          5510            0  \n",
       "1014             172                          7039            0  "
      ]
     },
     "execution_count": 4,
     "metadata": {},
     "output_type": "execute_result"
    }
   ],
   "source": [
    "data_blood.tail()"
   ]
  },
  {
   "cell_type": "code",
   "execution_count": 5,
   "id": "d791e30b",
   "metadata": {},
   "outputs": [
    {
     "data": {
      "text/plain": [
       "Index(['Gender', 'Red blood cell(RBC) count', 'Hemoglobin (Hb)', 'Hematocrit',\n",
       "       'Mean corpuscular volume (MCV)', 'Mean corpuscular hemoglobin (MCH)',\n",
       "       'Platelet count', 'White blood cell (WBC) count', 'Predictions'],\n",
       "      dtype='object')"
      ]
     },
     "execution_count": 5,
     "metadata": {},
     "output_type": "execute_result"
    }
   ],
   "source": [
    "data_blood.columns"
   ]
  },
  {
   "cell_type": "code",
   "execution_count": 6,
   "id": "38add880",
   "metadata": {},
   "outputs": [
    {
     "data": {
      "text/plain": [
       "(1015, 9)"
      ]
     },
     "execution_count": 6,
     "metadata": {},
     "output_type": "execute_result"
    }
   ],
   "source": [
    "data_blood.shape"
   ]
  },
  {
   "cell_type": "code",
   "execution_count": 7,
   "id": "fea22a2c",
   "metadata": {},
   "outputs": [
    {
     "data": {
      "text/html": [
       "<div>\n",
       "<style scoped>\n",
       "    .dataframe tbody tr th:only-of-type {\n",
       "        vertical-align: middle;\n",
       "    }\n",
       "\n",
       "    .dataframe tbody tr th {\n",
       "        vertical-align: top;\n",
       "    }\n",
       "\n",
       "    .dataframe thead th {\n",
       "        text-align: right;\n",
       "    }\n",
       "</style>\n",
       "<table border=\"1\" class=\"dataframe\">\n",
       "  <thead>\n",
       "    <tr style=\"text-align: right;\">\n",
       "      <th></th>\n",
       "      <th>Red blood cell(RBC) count</th>\n",
       "      <th>Hemoglobin (Hb)</th>\n",
       "      <th>Hematocrit</th>\n",
       "      <th>Mean corpuscular volume (MCV)</th>\n",
       "      <th>Mean corpuscular hemoglobin (MCH)</th>\n",
       "      <th>Platelet count</th>\n",
       "      <th>White blood cell (WBC) count</th>\n",
       "      <th>Predictions</th>\n",
       "    </tr>\n",
       "  </thead>\n",
       "  <tbody>\n",
       "    <tr>\n",
       "      <th>count</th>\n",
       "      <td>1015.000000</td>\n",
       "      <td>1015.000000</td>\n",
       "      <td>1015.000000</td>\n",
       "      <td>1015.000000</td>\n",
       "      <td>1015.000000</td>\n",
       "      <td>1015.000000</td>\n",
       "      <td>1015.000000</td>\n",
       "      <td>1015.000000</td>\n",
       "    </tr>\n",
       "    <tr>\n",
       "      <th>mean</th>\n",
       "      <td>4.414966</td>\n",
       "      <td>14.563517</td>\n",
       "      <td>43.540700</td>\n",
       "      <td>81.573882</td>\n",
       "      <td>25.727901</td>\n",
       "      <td>472.875862</td>\n",
       "      <td>8235.751724</td>\n",
       "      <td>0.507389</td>\n",
       "    </tr>\n",
       "    <tr>\n",
       "      <th>std</th>\n",
       "      <td>0.304207</td>\n",
       "      <td>1.411858</td>\n",
       "      <td>3.811704</td>\n",
       "      <td>9.334265</td>\n",
       "      <td>3.649388</td>\n",
       "      <td>210.301283</td>\n",
       "      <td>3464.004219</td>\n",
       "      <td>0.500192</td>\n",
       "    </tr>\n",
       "    <tr>\n",
       "      <th>min</th>\n",
       "      <td>3.810000</td>\n",
       "      <td>11.200000</td>\n",
       "      <td>30.900000</td>\n",
       "      <td>62.800000</td>\n",
       "      <td>18.200000</td>\n",
       "      <td>150.000000</td>\n",
       "      <td>4503.000000</td>\n",
       "      <td>0.000000</td>\n",
       "    </tr>\n",
       "    <tr>\n",
       "      <th>25%</th>\n",
       "      <td>4.150000</td>\n",
       "      <td>13.340000</td>\n",
       "      <td>40.300000</td>\n",
       "      <td>73.730000</td>\n",
       "      <td>22.410000</td>\n",
       "      <td>278.500000</td>\n",
       "      <td>6690.000000</td>\n",
       "      <td>0.000000</td>\n",
       "    </tr>\n",
       "    <tr>\n",
       "      <th>50%</th>\n",
       "      <td>4.430000</td>\n",
       "      <td>14.570000</td>\n",
       "      <td>43.700000</td>\n",
       "      <td>83.000000</td>\n",
       "      <td>27.000000</td>\n",
       "      <td>512.000000</td>\n",
       "      <td>8067.000000</td>\n",
       "      <td>1.000000</td>\n",
       "    </tr>\n",
       "    <tr>\n",
       "      <th>75%</th>\n",
       "      <td>4.660000</td>\n",
       "      <td>15.810000</td>\n",
       "      <td>46.900000</td>\n",
       "      <td>89.765000</td>\n",
       "      <td>29.000000</td>\n",
       "      <td>660.000000</td>\n",
       "      <td>9574.500000</td>\n",
       "      <td>1.000000</td>\n",
       "    </tr>\n",
       "    <tr>\n",
       "      <th>max</th>\n",
       "      <td>6.420000</td>\n",
       "      <td>16.970000</td>\n",
       "      <td>49.900000</td>\n",
       "      <td>96.700000</td>\n",
       "      <td>31.000000</td>\n",
       "      <td>819.000000</td>\n",
       "      <td>100600.000000</td>\n",
       "      <td>1.000000</td>\n",
       "    </tr>\n",
       "  </tbody>\n",
       "</table>\n",
       "</div>"
      ],
      "text/plain": [
       "       Red blood cell(RBC) count  Hemoglobin (Hb)   Hematocrit  \\\n",
       "count                1015.000000      1015.000000  1015.000000   \n",
       "mean                    4.414966        14.563517    43.540700   \n",
       "std                     0.304207         1.411858     3.811704   \n",
       "min                     3.810000        11.200000    30.900000   \n",
       "25%                     4.150000        13.340000    40.300000   \n",
       "50%                     4.430000        14.570000    43.700000   \n",
       "75%                     4.660000        15.810000    46.900000   \n",
       "max                     6.420000        16.970000    49.900000   \n",
       "\n",
       "       Mean corpuscular volume (MCV)  Mean corpuscular hemoglobin (MCH)  \\\n",
       "count                    1015.000000                        1015.000000   \n",
       "mean                       81.573882                          25.727901   \n",
       "std                         9.334265                           3.649388   \n",
       "min                        62.800000                          18.200000   \n",
       "25%                        73.730000                          22.410000   \n",
       "50%                        83.000000                          27.000000   \n",
       "75%                        89.765000                          29.000000   \n",
       "max                        96.700000                          31.000000   \n",
       "\n",
       "       Platelet count  White blood cell (WBC) count  Predictions  \n",
       "count     1015.000000                   1015.000000  1015.000000  \n",
       "mean       472.875862                   8235.751724     0.507389  \n",
       "std        210.301283                   3464.004219     0.500192  \n",
       "min        150.000000                   4503.000000     0.000000  \n",
       "25%        278.500000                   6690.000000     0.000000  \n",
       "50%        512.000000                   8067.000000     1.000000  \n",
       "75%        660.000000                   9574.500000     1.000000  \n",
       "max        819.000000                 100600.000000     1.000000  "
      ]
     },
     "execution_count": 7,
     "metadata": {},
     "output_type": "execute_result"
    }
   ],
   "source": [
    "data_blood.describe()"
   ]
  },
  {
   "cell_type": "code",
   "execution_count": 8,
   "id": "6f6c3342",
   "metadata": {},
   "outputs": [
    {
     "data": {
      "text/plain": [
       "Gender                               0\n",
       "Red blood cell(RBC) count            0\n",
       "Hemoglobin (Hb)                      0\n",
       "Hematocrit                           0\n",
       "Mean corpuscular volume (MCV)        0\n",
       "Mean corpuscular hemoglobin (MCH)    0\n",
       "Platelet count                       0\n",
       "White blood cell (WBC) count         0\n",
       "Predictions                          0\n",
       "dtype: int64"
      ]
     },
     "execution_count": 8,
     "metadata": {},
     "output_type": "execute_result"
    }
   ],
   "source": [
    "data_blood.isnull().sum()"
   ]
  },
  {
   "cell_type": "code",
   "execution_count": 9,
   "id": "a4c85ec7",
   "metadata": {},
   "outputs": [
    {
     "data": {
      "text/plain": [
       "array([1, 0], dtype=int64)"
      ]
     },
     "execution_count": 9,
     "metadata": {},
     "output_type": "execute_result"
    }
   ],
   "source": [
    "data_blood['Predictions'].unique()"
   ]
  },
  {
   "cell_type": "code",
   "execution_count": 10,
   "id": "f868260f",
   "metadata": {},
   "outputs": [
    {
     "data": {
      "text/plain": [
       "Gender                                object\n",
       "Red blood cell(RBC) count            float64\n",
       "Hemoglobin (Hb)                      float64\n",
       "Hematocrit                           float64\n",
       "Mean corpuscular volume (MCV)        float64\n",
       "Mean corpuscular hemoglobin (MCH)    float64\n",
       "Platelet count                         int64\n",
       "White blood cell (WBC) count           int64\n",
       "Predictions                            int64\n",
       "dtype: object"
      ]
     },
     "execution_count": 10,
     "metadata": {},
     "output_type": "execute_result"
    }
   ],
   "source": [
    "data_blood.dtypes"
   ]
  },
  {
   "cell_type": "code",
   "execution_count": 11,
   "id": "538216b1",
   "metadata": {},
   "outputs": [
    {
     "data": {
      "text/plain": [
       "1    515\n",
       "0    500\n",
       "Name: Predictions, dtype: int64"
      ]
     },
     "execution_count": 11,
     "metadata": {},
     "output_type": "execute_result"
    }
   ],
   "source": [
    "data_blood['Predictions'].value_counts()"
   ]
  },
  {
   "cell_type": "code",
   "execution_count": 12,
   "id": "e017589f",
   "metadata": {},
   "outputs": [
    {
     "data": {
      "text/plain": [
       "<AxesSubplot:>"
      ]
     },
     "execution_count": 12,
     "metadata": {},
     "output_type": "execute_result"
    },
    {
     "data": {
      "image/png": "[encoded data removed]",
      "text/plain": [
       "<Figure size 432x288 with 2 Axes>"
      ]
     },
     "metadata": {
      "needs_background": "light"
     },
     "output_type": "display_data"
    }
   ],
   "source": [
    "sns.heatmap(data_blood.corr(), annot=True)"
   ]
  },
  {
   "cell_type": "markdown",
   "id": "fb224ade",
   "metadata": {},
   "source": [
    "## Seperating feature and target label"
   ]
  },
  {
   "cell_type": "code",
   "execution_count": 13,
   "id": "365393e5",
   "metadata": {},
   "outputs": [],
   "source": [
    "features = data_blood[['Red blood cell(RBC) count', 'Hemoglobin (Hb)', 'Hematocrit',\n",
    "       'Mean corpuscular volume (MCV)', 'Mean corpuscular hemoglobin (MCH)',\n",
    "       'Platelet count', 'White blood cell (WBC) count',]]\n",
    "target = data_blood['Predictions']\n",
    "predictions = data_blood['Predictions']"
   ]
  },
  {
   "cell_type": "code",
   "execution_count": 14,
   "id": "7f5a2671",
   "metadata": {},
   "outputs": [],
   "source": [
    "acc = []\n",
    "model = []"
   ]
  },
  {
   "cell_type": "code",
   "execution_count": 15,
   "id": "a733c9c3",
   "metadata": {},
   "outputs": [],
   "source": [
    "from sklearn.model_selection import train_test_split\n",
    "Xtrain, Xtest, Ytrain, Ytest = train_test_split(features,target,test_size = 0.2,random_state =2)"
   ]
  },
  {
   "cell_type": "markdown",
   "id": "a8b9fd41",
   "metadata": {},
   "source": [
    "# Decision Tree"
   ]
  },
  {
   "cell_type": "code",
   "execution_count": 16,
   "id": "e27e5434",
   "metadata": {},
   "outputs": [
    {
     "name": "stdout",
     "output_type": "stream",
     "text": [
      "DecisionTrees's Accuracy is:  100.0\n",
      "              precision    recall  f1-score   support\n",
      "\n",
      "           0       1.00      1.00      1.00       105\n",
      "           1       1.00      1.00      1.00        98\n",
      "\n",
      "    accuracy                           1.00       203\n",
      "   macro avg       1.00      1.00      1.00       203\n",
      "weighted avg       1.00      1.00      1.00       203\n",
      "\n"
     ]
    }
   ],
   "source": [
    "from sklearn.tree import DecisionTreeClassifier\n",
    "\n",
    "DecisionTree = DecisionTreeClassifier(criterion=\"entropy\",random_state=2,max_depth=5)\n",
    "\n",
    "DecisionTree.fit(Xtrain,Ytrain)\n",
    "\n",
    "predicted_values = DecisionTree.predict(Xtest)\n",
    "x = metrics.accuracy_score(Ytest, predicted_values)\n",
    "acc.append(x)\n",
    "model.append('Decision Tree')\n",
    "print(\"DecisionTrees's Accuracy is: \", x*100)\n",
    "\n",
    "print(classification_report(Ytest,predicted_values))"
   ]
  },
  {
   "cell_type": "code",
   "execution_count": 17,
   "id": "b36bc924",
   "metadata": {},
   "outputs": [],
   "source": [
    "from sklearn.model_selection import cross_val_score"
   ]
  },
  {
   "cell_type": "code",
   "execution_count": 18,
   "id": "9c5bd2ce",
   "metadata": {},
   "outputs": [],
   "source": [
    "#Cross validation score (Decision Tree)\n",
    "score = cross_val_score(DecisionTree, features, target, cv=5)"
   ]
  },
  {
   "cell_type": "code",
   "execution_count": 19,
   "id": "eca1a8b3",
   "metadata": {},
   "outputs": [
    {
     "data": {
      "text/plain": [
       "array([1., 1., 1., 1., 1.])"
      ]
     },
     "execution_count": 19,
     "metadata": {},
     "output_type": "execute_result"
    }
   ],
   "source": [
    "score"
   ]
  },
  {
   "cell_type": "markdown",
   "id": "1bd7613e",
   "metadata": {},
   "source": [
    "### Saving Model DecisionTree"
   ]
  },
  {
   "cell_type": "code",
   "execution_count": null,
   "id": "1306ca2a",
   "metadata": {},
   "outputs": [],
   "source": [
    "#run this cell when model is good!!\n",
    "import pickle\n",
    "# Dump the trained Naive Bayes classifier with Pickle\n",
    "DT_pkl_filename = '../models/DecisionTree.pkl'\n",
    "# Open the file to save as pkl file\n",
    "DT_Model_pkl = open(DT_pkl_filename, 'wb')\n",
    "pickle.dump(DecisionTree, DT_Model_pkl)\n",
    "# Close the pickle instances\n",
    "DT_Model_pkl.close()"
   ]
  },
  {
   "cell_type": "markdown",
   "id": "e9ec700c",
   "metadata": {},
   "source": [
    "# Gaussian Naive Bayes"
   ]
  },
  {
   "cell_type": "code",
   "execution_count": 20,
   "id": "413918ef",
   "metadata": {},
   "outputs": [
    {
     "name": "stdout",
     "output_type": "stream",
     "text": [
      "Naive Bayes's Accuracy is:  0.9950738916256158\n",
      "              precision    recall  f1-score   support\n",
      "\n",
      "           0       0.99      1.00      1.00       105\n",
      "           1       1.00      0.99      0.99        98\n",
      "\n",
      "    accuracy                           1.00       203\n",
      "   macro avg       1.00      0.99      1.00       203\n",
      "weighted avg       1.00      1.00      1.00       203\n",
      "\n"
     ]
    }
   ],
   "source": [
    "from sklearn.naive_bayes import GaussianNB\n",
    "\n",
    "NaiveBayes = GaussianNB()\n",
    "\n",
    "NaiveBayes.fit(Xtrain,Ytrain)\n",
    "\n",
    "predicted_values = NaiveBayes.predict(Xtest)\n",
    "x = metrics.accuracy_score(Ytest, predicted_values)\n",
    "acc.append(x)\n",
    "model.append('Naive Bayes')\n",
    "print(\"Naive Bayes's Accuracy is: \", x)\n",
    "\n",
    "print(classification_report(Ytest,predicted_values))"
   ]
  },
  {
   "cell_type": "code",
   "execution_count": 21,
   "id": "580c8288",
   "metadata": {},
   "outputs": [
    {
     "data": {
      "text/plain": [
       "array([1.        , 0.99507389, 1.        , 1.        , 1.        ])"
      ]
     },
     "execution_count": 21,
     "metadata": {},
     "output_type": "execute_result"
    }
   ],
   "source": [
    "# Cross validation score (NaiveBayes)\n",
    "score = cross_val_score(NaiveBayes,features,target,cv=5)\n",
    "score"
   ]
  },
  {
   "cell_type": "markdown",
   "id": "8d4f7c10",
   "metadata": {},
   "source": [
    "### Saving Model Gaussian Naive Bayes"
   ]
  },
  {
   "cell_type": "code",
   "execution_count": null,
   "id": "a13ea5d5",
   "metadata": {},
   "outputs": [],
   "source": [
    "#run this cell when model is good!!\n",
    "import pickle\n",
    "# Dump the trained Naive Bayes classifier with Pickle\n",
    "NB_pkl_filename = '../models/NBClassifier.pkl'\n",
    "# Open the file to save as pkl file\n",
    "NB_Model_pkl = open(NB_pkl_filename, 'wb')\n",
    "pickle.dump(NaiveBayes, NB_Model_pkl)\n",
    "# Close the pickle instances\n",
    "NB_Model_pkl.close()"
   ]
  },
  {
   "cell_type": "markdown",
   "id": "44971586",
   "metadata": {},
   "source": [
    "# Support Vector Machine (SVM)"
   ]
  },
  {
   "cell_type": "code",
   "execution_count": 22,
   "id": "c4474ead",
   "metadata": {},
   "outputs": [
    {
     "name": "stdout",
     "output_type": "stream",
     "text": [
      "SVM's Accuracy is:  0.9950738916256158\n",
      "              precision    recall  f1-score   support\n",
      "\n",
      "           0       0.99      1.00      1.00       105\n",
      "           1       1.00      0.99      0.99        98\n",
      "\n",
      "    accuracy                           1.00       203\n",
      "   macro avg       1.00      0.99      1.00       203\n",
      "weighted avg       1.00      1.00      1.00       203\n",
      "\n"
     ]
    }
   ],
   "source": [
    "from sklearn.svm import SVC\n",
    "# data normalization with sklearn\n",
    "from sklearn.preprocessing import MinMaxScaler\n",
    "# fit scaler on training data\n",
    "norm = MinMaxScaler().fit(Xtrain)\n",
    "X_train_norm = norm.transform(Xtrain)\n",
    "# transform testing dataabs\n",
    "X_test_norm = norm.transform(Xtest)\n",
    "SVM = SVC(kernel='poly', degree=3, C=1)\n",
    "SVM.fit(X_train_norm,Ytrain)\n",
    "predicted_values = SVM.predict(X_test_norm)\n",
    "x = metrics.accuracy_score(Ytest, predicted_values)\n",
    "acc.append(x)\n",
    "model.append('SVM')\n",
    "print(\"SVM's Accuracy is: \", x)\n",
    "\n",
    "print(classification_report(Ytest,predicted_values))"
   ]
  },
  {
   "cell_type": "code",
   "execution_count": 23,
   "id": "f0b7e9fd",
   "metadata": {},
   "outputs": [],
   "source": [
    "# Cross validation score (SVM)\n",
    "score = cross_val_score(SVM,features,target,cv=5)"
   ]
  },
  {
   "cell_type": "code",
   "execution_count": 24,
   "id": "0f576f14",
   "metadata": {},
   "outputs": [
    {
     "data": {
      "text/plain": [
       "array([0.89162562, 0.88669951, 0.9408867 , 0.89162562, 0.92118227])"
      ]
     },
     "execution_count": 24,
     "metadata": {},
     "output_type": "execute_result"
    }
   ],
   "source": [
    "score"
   ]
  },
  {
   "cell_type": "markdown",
   "id": "af130f06",
   "metadata": {},
   "source": [
    "### Saving Model SVM "
   ]
  },
  {
   "cell_type": "code",
   "execution_count": null,
   "id": "c62a7d2c",
   "metadata": {},
   "outputs": [],
   "source": [
    "#run this cell when model is good!!\n",
    "import pickle\n",
    "# Dump the trained SVM classifier with Pickle\n",
    "SVM_pkl_filename = '../models/SVMClassifier.pkl'\n",
    "# Open the file to save as pkl file\n",
    "SVM_Model_pkl = open(SVM_pkl_filename, 'wb')\n",
    "pickle.dump(SVM, SVM_Model_pkl)\n",
    "# Close the pickle instances\n",
    "SVM_Model_pkl.close()"
   ]
  },
  {
   "cell_type": "markdown",
   "id": "aa7268a6",
   "metadata": {},
   "source": [
    "# Logistic Regression"
   ]
  },
  {
   "cell_type": "code",
   "execution_count": 25,
   "id": "d6999c9f",
   "metadata": {},
   "outputs": [
    {
     "name": "stdout",
     "output_type": "stream",
     "text": [
      "Logistic Regression's Accuracy is:  1.0\n",
      "              precision    recall  f1-score   support\n",
      "\n",
      "           0       1.00      1.00      1.00       105\n",
      "           1       1.00      1.00      1.00        98\n",
      "\n",
      "    accuracy                           1.00       203\n",
      "   macro avg       1.00      1.00      1.00       203\n",
      "weighted avg       1.00      1.00      1.00       203\n",
      "\n"
     ]
    }
   ],
   "source": [
    "from sklearn.linear_model import LogisticRegression\n",
    "\n",
    "LogReg = LogisticRegression(random_state=2)\n",
    "\n",
    "LogReg.fit(Xtrain,Ytrain)\n",
    "\n",
    "predicted_values = LogReg.predict(Xtest)\n",
    "\n",
    "x = metrics.accuracy_score(Ytest, predicted_values)\n",
    "acc.append(x)\n",
    "model.append('Logistic Regression')\n",
    "print(\"Logistic Regression's Accuracy is: \", x)\n",
    "\n",
    "print(classification_report(Ytest,predicted_values))"
   ]
  },
  {
   "cell_type": "code",
   "execution_count": 26,
   "id": "6526af9a",
   "metadata": {},
   "outputs": [],
   "source": [
    "# Cross validation score (Logistic Regression)\n",
    "score = cross_val_score(LogReg,features,target,cv=5)"
   ]
  },
  {
   "cell_type": "code",
   "execution_count": 27,
   "id": "77854f19",
   "metadata": {},
   "outputs": [
    {
     "data": {
      "text/plain": [
       "array([1.        , 1.        , 0.99507389, 1.        , 1.        ])"
      ]
     },
     "execution_count": 27,
     "metadata": {},
     "output_type": "execute_result"
    }
   ],
   "source": [
    "score"
   ]
  },
  {
   "cell_type": "markdown",
   "id": "10de1e8a",
   "metadata": {},
   "source": [
    "### Saving Model LR "
   ]
  },
  {
   "cell_type": "code",
   "execution_count": null,
   "id": "bed9fa45",
   "metadata": {},
   "outputs": [],
   "source": [
    "#run this cell when model is good\n",
    "import pickle\n",
    "# Dump the trained Naive Bayes classifier with Pickle\n",
    "LR_pkl_filename = '../models/LogisticRegression.pkl'\n",
    "# Open the file to save as pkl file\n",
    "LR_Model_pkl = open(DT_pkl_filename, 'wb')\n",
    "pickle.dump(LogReg, LR_Model_pkl)\n",
    "# Close the pickle instances\n",
    "LR_Model_pkl.close()"
   ]
  },
  {
   "cell_type": "markdown",
   "id": "70350ce4",
   "metadata": {},
   "source": [
    "# Random Forest"
   ]
  },
  {
   "cell_type": "code",
   "execution_count": 28,
   "id": "da79d0b4",
   "metadata": {},
   "outputs": [
    {
     "name": "stdout",
     "output_type": "stream",
     "text": [
      "RF's Accuracy is:  1.0\n",
      "              precision    recall  f1-score   support\n",
      "\n",
      "           0       1.00      1.00      1.00       105\n",
      "           1       1.00      1.00      1.00        98\n",
      "\n",
      "    accuracy                           1.00       203\n",
      "   macro avg       1.00      1.00      1.00       203\n",
      "weighted avg       1.00      1.00      1.00       203\n",
      "\n"
     ]
    }
   ],
   "source": [
    "from sklearn.ensemble import RandomForestClassifier\n",
    "\n",
    "RF = RandomForestClassifier(n_estimators=20, random_state=0)\n",
    "RF.fit(Xtrain,Ytrain)\n",
    "\n",
    "predicted_values = RF.predict(Xtest)\n",
    "\n",
    "x = metrics.accuracy_score(Ytest, predicted_values)\n",
    "acc.append(x)\n",
    "model.append('RF')\n",
    "print(\"RF's Accuracy is: \", x)\n",
    "\n",
    "print(classification_report(Ytest,predicted_values))"
   ]
  },
  {
   "cell_type": "code",
   "execution_count": 29,
   "id": "17db457b",
   "metadata": {},
   "outputs": [],
   "source": [
    "# Cross validation score (Random Forest)\n",
    "score = cross_val_score(RF,features,target,cv=5)"
   ]
  },
  {
   "cell_type": "code",
   "execution_count": 30,
   "id": "1eed7264",
   "metadata": {},
   "outputs": [
    {
     "data": {
      "text/plain": [
       "array([1., 1., 1., 1., 1.])"
      ]
     },
     "execution_count": 30,
     "metadata": {},
     "output_type": "execute_result"
    }
   ],
   "source": [
    "score"
   ]
  },
  {
   "cell_type": "markdown",
   "id": "3b3fc150",
   "metadata": {},
   "source": [
    "### Saving Model Random Forest "
   ]
  },
  {
   "cell_type": "code",
   "execution_count": null,
   "id": "bc3d788e",
   "metadata": {},
   "outputs": [],
   "source": [
    "#run this cell when model is good!!\n",
    "import pickle\n",
    "# Dump the trained Naive Bayes classifier with Pickle\n",
    "RF_pkl_filename = '../models/RandomForest.pkl'\n",
    "# Open the file to save as pkl file\n",
    "RF_Model_pkl = open(RF_pkl_filename, 'wb')\n",
    "pickle.dump(RF, RF_Model_pkl)\n",
    "# Close the pickle instances\n",
    "RF_Model_pkl.close()"
   ]
  },
  {
   "cell_type": "markdown",
   "id": "13a5de96",
   "metadata": {},
   "source": [
    "# XGBoost"
   ]
  },
  {
   "cell_type": "code",
   "execution_count": 31,
   "id": "99c0ad4c",
   "metadata": {},
   "outputs": [
    {
     "name": "stdout",
     "output_type": "stream",
     "text": [
      "[23:46:19] WARNING: C:/Users/Administrator/workspace/xgboost-win64_release_1.5.1/src/learner.cc:1115: Starting in XGBoost 1.3.0, the default evaluation metric used with the objective 'binary:logistic' was changed from 'error' to 'logloss'. Explicitly set eval_metric if you'd like to restore the old behavior.\n",
      "XGBoost's Accuracy is:  1.0\n",
      "              precision    recall  f1-score   support\n",
      "\n",
      "           0       1.00      1.00      1.00       105\n",
      "           1       1.00      1.00      1.00        98\n",
      "\n",
      "    accuracy                           1.00       203\n",
      "   macro avg       1.00      1.00      1.00       203\n",
      "weighted avg       1.00      1.00      1.00       203\n",
      "\n"
     ]
    }
   ],
   "source": [
    "import xgboost as xgb\n",
    "XB = xgb.XGBClassifier()\n",
    "XB.fit(Xtrain,Ytrain)\n",
    "\n",
    "predicted_values = XB.predict(Xtest)\n",
    "\n",
    "x = metrics.accuracy_score(Ytest, predicted_values)\n",
    "acc.append(x)\n",
    "model.append('XGBoost')\n",
    "print(\"XGBoost's Accuracy is: \", x)\n",
    "\n",
    "print(classification_report(Ytest,predicted_values))"
   ]
  },
  {
   "cell_type": "code",
   "execution_count": 32,
   "id": "79c24a03",
   "metadata": {},
   "outputs": [
    {
     "name": "stdout",
     "output_type": "stream",
     "text": [
      "[23:46:22] WARNING: C:/Users/Administrator/workspace/xgboost-win64_release_1.5.1/src/learner.cc:1115: Starting in XGBoost 1.3.0, the default evaluation metric used with the objective 'binary:logistic' was changed from 'error' to 'logloss'. Explicitly set eval_metric if you'd like to restore the old behavior.\n",
      "[23:46:22] WARNING: C:/Users/Administrator/workspace/xgboost-win64_release_1.5.1/src/learner.cc:1115: Starting in XGBoost 1.3.0, the default evaluation metric used with the objective 'binary:logistic' was changed from 'error' to 'logloss'. Explicitly set eval_metric if you'd like to restore the old behavior.\n",
      "[23:46:22] WARNING: C:/Users/Administrator/workspace/xgboost-win64_release_1.5.1/src/learner.cc:1115: Starting in XGBoost 1.3.0, the default evaluation metric used with the objective 'binary:logistic' was changed from 'error' to 'logloss'. Explicitly set eval_metric if you'd like to restore the old behavior.\n",
      "[23:46:22] WARNING: C:/Users/Administrator/workspace/xgboost-win64_release_1.5.1/src/learner.cc:1115: Starting in XGBoost 1.3.0, the default evaluation metric used with the objective 'binary:logistic' was changed from 'error' to 'logloss'. Explicitly set eval_metric if you'd like to restore the old behavior.\n",
      "[23:46:22] WARNING: C:/Users/Administrator/workspace/xgboost-win64_release_1.5.1/src/learner.cc:1115: Starting in XGBoost 1.3.0, the default evaluation metric used with the objective 'binary:logistic' was changed from 'error' to 'logloss'. Explicitly set eval_metric if you'd like to restore the old behavior.\n"
     ]
    }
   ],
   "source": [
    "# Cross validation score (XGBoost)\n",
    "score = cross_val_score(XB,features,target,cv=5)"
   ]
  },
  {
   "cell_type": "code",
   "execution_count": 33,
   "id": "dce917e0",
   "metadata": {},
   "outputs": [
    {
     "data": {
      "text/plain": [
       "array([1., 1., 1., 1., 1.])"
      ]
     },
     "execution_count": 33,
     "metadata": {},
     "output_type": "execute_result"
    }
   ],
   "source": [
    "score"
   ]
  },
  {
   "cell_type": "markdown",
   "id": "8fd67698",
   "metadata": {},
   "source": [
    "### Saving Model XGBoost "
   ]
  },
  {
   "cell_type": "code",
   "execution_count": null,
   "id": "466cac95",
   "metadata": {},
   "outputs": [],
   "source": [
    "#run this cell when all the models are working\n",
    "import pickle\n",
    "# Dump the trained Naive Bayes classifier with Pickle\n",
    "XB_pkl_filename = '../models/XGBoost.pkl'\n",
    "# Open the file to save as pkl file\n",
    "XB_Model_pkl = open(XB_pkl_filename, 'wb')\n",
    "pickle.dump(XB, XB_Model_pkl)\n",
    "# Close the pickle instances\n",
    "XB_Model_pkl.close()"
   ]
  },
  {
   "cell_type": "markdown",
   "id": "3f77d01a",
   "metadata": {},
   "source": [
    "## Accuracy Comparison"
   ]
  },
  {
   "cell_type": "code",
   "execution_count": 34,
   "id": "ba635056",
   "metadata": {},
   "outputs": [
    {
     "data": {
      "text/plain": [
       "<AxesSubplot:title={'center':'Accuracy Comparison'}, xlabel='Accuracy', ylabel='Algorithm'>"
      ]
     },
     "execution_count": 34,
     "metadata": {},
     "output_type": "execute_result"
    },
    {
     "data": {
      "image/png": "[encoded data removed]",
      "text/plain": [
       "<Figure size 1000x500 with 1 Axes>"
      ]
     },
     "metadata": {
      "needs_background": "light"
     },
     "output_type": "display_data"
    }
   ],
   "source": [
    "plt.figure(figsize=[10,5],dpi = 100)\n",
    "plt.title('Accuracy Comparison')\n",
    "plt.xlabel('Accuracy')\n",
    "plt.ylabel('Algorithm')\n",
    "sns.barplot(x = acc,y = model,palette='dark')"
   ]
  },
  {
   "cell_type": "code",
   "execution_count": 35,
   "id": "30f8206d",
   "metadata": {},
   "outputs": [
    {
     "name": "stdout",
     "output_type": "stream",
     "text": [
      "Decision Tree --> 1.0\n",
      "Naive Bayes --> 0.9950738916256158\n",
      "SVM --> 0.9950738916256158\n",
      "Logistic Regression --> 1.0\n",
      "RF --> 1.0\n",
      "XGBoost --> 1.0\n"
     ]
    }
   ],
   "source": [
    "accuracy_models = dict(zip(model, acc))\n",
    "for k, v in accuracy_models.items():\n",
    "    print (k, '-->', v)"
   ]
  },
  {
   "cell_type": "markdown",
   "id": "5dc20da4",
   "metadata": {},
   "source": [
    "# Making Prediction"
   ]
  },
  {
   "cell_type": "code",
   "execution_count": 36,
   "id": "51d321a1",
   "metadata": {},
   "outputs": [
    {
     "name": "stdout",
     "output_type": "stream",
     "text": [
      "[0]\n"
     ]
    }
   ],
   "source": [
    "data = np.array([[6.2, 15.9, 44.3, 89.3, 24.02, 230, 6423]])\n",
    "prediction = XB.predict(data)\n",
    "print(prediction)"
   ]
  },
  {
   "cell_type": "code",
   "execution_count": null,
   "id": "c8521d00",
   "metadata": {},
   "outputs": [],
   "source": []
  }
 ],
 "metadata": {
  "kernelspec": {
   "display_name": "Python 3 (ipykernel)",
   "language": "python",
   "name": "python3"
  },
  "language_info": {
   "codemirror_mode": {
    "name": "ipython",
    "version": 3
   },
   "file_extension": ".py",
   "mimetype": "text/x-python",
   "name": "python",
   "nbconvert_exporter": "python",
   "pygments_lexer": "ipython3",
   "version": "3.10.2"
  }
 },
 "nbformat": 4,
 "nbformat_minor": 5
}
