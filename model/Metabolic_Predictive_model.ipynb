{
 "cells": [
  {
   "cell_type": "code",
   "execution_count": 1,
   "id": "bce999b4",
   "metadata": {},
   "outputs": [],
   "source": [
    "import pandas as pd\n",
    "import numpy as np\n",
    "\n",
    "from __future__ import print_function\n",
    "import matplotlib.pyplot as plt\n",
    "import seaborn as sns\n",
    "from sklearn.metrics import classification_report\n",
    "from sklearn import metrics\n",
    "from sklearn import tree\n",
    "import warnings\n",
    "warnings.filterwarnings('ignore')"
   ]
  },
  {
   "cell_type": "code",
   "execution_count": 2,
   "id": "9a9d2bb7",
   "metadata": {},
   "outputs": [],
   "source": [
    "data_meta = pd.read_csv(\"D:/Programming/HC Project/Dataset/Dataset_Compiled - Metabolic.csv\")"
   ]
  },
  {
   "cell_type": "code",
   "execution_count": 3,
   "id": "9fc5536d",
   "metadata": {
    "scrolled": false
   },
   "outputs": [
    {
     "data": {
      "text/html": [
       "<div>\n",
       "<style scoped>\n",
       "    .dataframe tbody tr th:only-of-type {\n",
       "        vertical-align: middle;\n",
       "    }\n",
       "\n",
       "    .dataframe tbody tr th {\n",
       "        vertical-align: top;\n",
       "    }\n",
       "\n",
       "    .dataframe thead th {\n",
       "        text-align: right;\n",
       "    }\n",
       "</style>\n",
       "<table border=\"1\" class=\"dataframe\">\n",
       "  <thead>\n",
       "    <tr style=\"text-align: right;\">\n",
       "      <th></th>\n",
       "      <th>Glucose</th>\n",
       "      <th>Blood urea nitrogen (BUN)</th>\n",
       "      <th>Creatinine</th>\n",
       "      <th>BUN/Creatinine ratio</th>\n",
       "      <th>Calcium</th>\n",
       "      <th>Protein</th>\n",
       "      <th>Albumin</th>\n",
       "      <th>Alanine Phosphatase (ALP)</th>\n",
       "      <th>Alanine amino transferase (ALT)</th>\n",
       "      <th>Predictions</th>\n",
       "    </tr>\n",
       "  </thead>\n",
       "  <tbody>\n",
       "    <tr>\n",
       "      <th>0</th>\n",
       "      <td>96.0</td>\n",
       "      <td>17.92</td>\n",
       "      <td>0.98</td>\n",
       "      <td>27:1</td>\n",
       "      <td>5.9</td>\n",
       "      <td>7.30</td>\n",
       "      <td>3.84</td>\n",
       "      <td>7.44</td>\n",
       "      <td>13.0</td>\n",
       "      <td>1</td>\n",
       "    </tr>\n",
       "    <tr>\n",
       "      <th>1</th>\n",
       "      <td>91.0</td>\n",
       "      <td>17.95</td>\n",
       "      <td>0.93</td>\n",
       "      <td>18:1</td>\n",
       "      <td>5.5</td>\n",
       "      <td>6.68</td>\n",
       "      <td>5.23</td>\n",
       "      <td>9.48</td>\n",
       "      <td>22.1</td>\n",
       "      <td>1</td>\n",
       "    </tr>\n",
       "    <tr>\n",
       "      <th>2</th>\n",
       "      <td>73.0</td>\n",
       "      <td>15.00</td>\n",
       "      <td>1.20</td>\n",
       "      <td>12.5:1</td>\n",
       "      <td>7.3</td>\n",
       "      <td>6.90</td>\n",
       "      <td>4.90</td>\n",
       "      <td>53.00</td>\n",
       "      <td>19.0</td>\n",
       "      <td>0</td>\n",
       "    </tr>\n",
       "    <tr>\n",
       "      <th>3</th>\n",
       "      <td>97.9</td>\n",
       "      <td>19.80</td>\n",
       "      <td>1.20</td>\n",
       "      <td>16.5:1</td>\n",
       "      <td>5.2</td>\n",
       "      <td>6.70</td>\n",
       "      <td>4.70</td>\n",
       "      <td>69.00</td>\n",
       "      <td>16.0</td>\n",
       "      <td>0</td>\n",
       "    </tr>\n",
       "    <tr>\n",
       "      <th>4</th>\n",
       "      <td>72.0</td>\n",
       "      <td>20.56</td>\n",
       "      <td>0.93</td>\n",
       "      <td>19:1</td>\n",
       "      <td>7.4</td>\n",
       "      <td>8.02</td>\n",
       "      <td>4.99</td>\n",
       "      <td>18.05</td>\n",
       "      <td>23.0</td>\n",
       "      <td>1</td>\n",
       "    </tr>\n",
       "  </tbody>\n",
       "</table>\n",
       "</div>"
      ],
      "text/plain": [
       "   Glucose  Blood urea nitrogen (BUN)  Creatinine BUN/Creatinine ratio  \\\n",
       "0     96.0                      17.92        0.98                 27:1   \n",
       "1     91.0                      17.95        0.93                 18:1   \n",
       "2     73.0                      15.00        1.20               12.5:1   \n",
       "3     97.9                      19.80        1.20               16.5:1   \n",
       "4     72.0                      20.56        0.93                 19:1   \n",
       "\n",
       "   Calcium  Protein  Albumin  Alanine Phosphatase (ALP)  \\\n",
       "0      5.9     7.30     3.84                       7.44   \n",
       "1      5.5     6.68     5.23                       9.48   \n",
       "2      7.3     6.90     4.90                      53.00   \n",
       "3      5.2     6.70     4.70                      69.00   \n",
       "4      7.4     8.02     4.99                      18.05   \n",
       "\n",
       "   Alanine amino transferase (ALT)  Predictions  \n",
       "0                             13.0            1  \n",
       "1                             22.1            1  \n",
       "2                             19.0            0  \n",
       "3                             16.0            0  \n",
       "4                             23.0            1  "
      ]
     },
     "execution_count": 3,
     "metadata": {},
     "output_type": "execute_result"
    }
   ],
   "source": [
    "data_meta.head()"
   ]
  },
  {
   "cell_type": "code",
   "execution_count": 4,
   "id": "cebaebdf",
   "metadata": {
    "scrolled": false
   },
   "outputs": [
    {
     "data": {
      "text/html": [
       "<div>\n",
       "<style scoped>\n",
       "    .dataframe tbody tr th:only-of-type {\n",
       "        vertical-align: middle;\n",
       "    }\n",
       "\n",
       "    .dataframe tbody tr th {\n",
       "        vertical-align: top;\n",
       "    }\n",
       "\n",
       "    .dataframe thead th {\n",
       "        text-align: right;\n",
       "    }\n",
       "</style>\n",
       "<table border=\"1\" class=\"dataframe\">\n",
       "  <thead>\n",
       "    <tr style=\"text-align: right;\">\n",
       "      <th></th>\n",
       "      <th>Glucose</th>\n",
       "      <th>Blood urea nitrogen (BUN)</th>\n",
       "      <th>Creatinine</th>\n",
       "      <th>BUN/Creatinine ratio</th>\n",
       "      <th>Calcium</th>\n",
       "      <th>Protein</th>\n",
       "      <th>Albumin</th>\n",
       "      <th>Alanine Phosphatase (ALP)</th>\n",
       "      <th>Alanine amino transferase (ALT)</th>\n",
       "      <th>Predictions</th>\n",
       "    </tr>\n",
       "  </thead>\n",
       "  <tbody>\n",
       "    <tr>\n",
       "      <th>1010</th>\n",
       "      <td>87.0</td>\n",
       "      <td>16.00</td>\n",
       "      <td>1.40</td>\n",
       "      <td>11.4285714285714:1</td>\n",
       "      <td>5.8</td>\n",
       "      <td>6.90</td>\n",
       "      <td>4.00</td>\n",
       "      <td>135.00</td>\n",
       "      <td>32.0</td>\n",
       "      <td>0</td>\n",
       "    </tr>\n",
       "    <tr>\n",
       "      <th>1011</th>\n",
       "      <td>99.0</td>\n",
       "      <td>15.00</td>\n",
       "      <td>1.40</td>\n",
       "      <td>10.7142857142857:1</td>\n",
       "      <td>7.9</td>\n",
       "      <td>7.20</td>\n",
       "      <td>5.00</td>\n",
       "      <td>78.00</td>\n",
       "      <td>16.0</td>\n",
       "      <td>0</td>\n",
       "    </tr>\n",
       "    <tr>\n",
       "      <th>1012</th>\n",
       "      <td>95.0</td>\n",
       "      <td>21.36</td>\n",
       "      <td>0.81</td>\n",
       "      <td>22:1</td>\n",
       "      <td>5.7</td>\n",
       "      <td>6.99</td>\n",
       "      <td>5.66</td>\n",
       "      <td>11.01</td>\n",
       "      <td>16.6</td>\n",
       "      <td>1</td>\n",
       "    </tr>\n",
       "    <tr>\n",
       "      <th>1013</th>\n",
       "      <td>87.0</td>\n",
       "      <td>8.00</td>\n",
       "      <td>1.40</td>\n",
       "      <td>5.71428571428571:1</td>\n",
       "      <td>7.1</td>\n",
       "      <td>6.50</td>\n",
       "      <td>4.50</td>\n",
       "      <td>113.00</td>\n",
       "      <td>36.0</td>\n",
       "      <td>0</td>\n",
       "    </tr>\n",
       "    <tr>\n",
       "      <th>1014</th>\n",
       "      <td>80.0</td>\n",
       "      <td>20.00</td>\n",
       "      <td>0.80</td>\n",
       "      <td>25:1</td>\n",
       "      <td>5.8</td>\n",
       "      <td>6.90</td>\n",
       "      <td>5.00</td>\n",
       "      <td>75.00</td>\n",
       "      <td>19.0</td>\n",
       "      <td>0</td>\n",
       "    </tr>\n",
       "  </tbody>\n",
       "</table>\n",
       "</div>"
      ],
      "text/plain": [
       "      Glucose  Blood urea nitrogen (BUN)  Creatinine BUN/Creatinine ratio  \\\n",
       "1010     87.0                      16.00        1.40   11.4285714285714:1   \n",
       "1011     99.0                      15.00        1.40   10.7142857142857:1   \n",
       "1012     95.0                      21.36        0.81                 22:1   \n",
       "1013     87.0                       8.00        1.40   5.71428571428571:1   \n",
       "1014     80.0                      20.00        0.80                 25:1   \n",
       "\n",
       "      Calcium  Protein  Albumin  Alanine Phosphatase (ALP)  \\\n",
       "1010      5.8     6.90     4.00                     135.00   \n",
       "1011      7.9     7.20     5.00                      78.00   \n",
       "1012      5.7     6.99     5.66                      11.01   \n",
       "1013      7.1     6.50     4.50                     113.00   \n",
       "1014      5.8     6.90     5.00                      75.00   \n",
       "\n",
       "      Alanine amino transferase (ALT)  Predictions  \n",
       "1010                             32.0            0  \n",
       "1011                             16.0            0  \n",
       "1012                             16.6            1  \n",
       "1013                             36.0            0  \n",
       "1014                             19.0            0  "
      ]
     },
     "execution_count": 4,
     "metadata": {},
     "output_type": "execute_result"
    }
   ],
   "source": [
    "data_meta.tail()"
   ]
  },
  {
   "cell_type": "code",
   "execution_count": 5,
   "id": "d791e30b",
   "metadata": {},
   "outputs": [
    {
     "data": {
      "text/plain": [
       "Index(['Glucose', 'Blood urea nitrogen (BUN)', 'Creatinine',\n",
       "       'BUN/Creatinine ratio', 'Calcium', 'Protein', 'Albumin',\n",
       "       'Alanine Phosphatase (ALP)', 'Alanine amino transferase (ALT)',\n",
       "       'Predictions'],\n",
       "      dtype='object')"
      ]
     },
     "execution_count": 5,
     "metadata": {},
     "output_type": "execute_result"
    }
   ],
   "source": [
    "data_meta.columns"
   ]
  },
  {
   "cell_type": "code",
   "execution_count": 6,
   "id": "38add880",
   "metadata": {},
   "outputs": [
    {
     "data": {
      "text/plain": [
       "(1015, 10)"
      ]
     },
     "execution_count": 6,
     "metadata": {},
     "output_type": "execute_result"
    }
   ],
   "source": [
    "data_meta.shape"
   ]
  },
  {
   "cell_type": "code",
   "execution_count": 7,
   "id": "fea22a2c",
   "metadata": {},
   "outputs": [
    {
     "data": {
      "text/html": [
       "<div>\n",
       "<style scoped>\n",
       "    .dataframe tbody tr th:only-of-type {\n",
       "        vertical-align: middle;\n",
       "    }\n",
       "\n",
       "    .dataframe tbody tr th {\n",
       "        vertical-align: top;\n",
       "    }\n",
       "\n",
       "    .dataframe thead th {\n",
       "        text-align: right;\n",
       "    }\n",
       "</style>\n",
       "<table border=\"1\" class=\"dataframe\">\n",
       "  <thead>\n",
       "    <tr style=\"text-align: right;\">\n",
       "      <th></th>\n",
       "      <th>Glucose</th>\n",
       "      <th>Blood urea nitrogen (BUN)</th>\n",
       "      <th>Creatinine</th>\n",
       "      <th>Calcium</th>\n",
       "      <th>Protein</th>\n",
       "      <th>Albumin</th>\n",
       "      <th>Alanine Phosphatase (ALP)</th>\n",
       "      <th>Alanine amino transferase (ALT)</th>\n",
       "      <th>Predictions</th>\n",
       "    </tr>\n",
       "  </thead>\n",
       "  <tbody>\n",
       "    <tr>\n",
       "      <th>count</th>\n",
       "      <td>1015.000000</td>\n",
       "      <td>1015.000000</td>\n",
       "      <td>1015.000000</td>\n",
       "      <td>1015.000000</td>\n",
       "      <td>1015.000000</td>\n",
       "      <td>1015.000000</td>\n",
       "      <td>1015.000000</td>\n",
       "      <td>1015.000000</td>\n",
       "      <td>1015.000000</td>\n",
       "    </tr>\n",
       "    <tr>\n",
       "      <th>mean</th>\n",
       "      <td>86.063645</td>\n",
       "      <td>16.329034</td>\n",
       "      <td>1.048197</td>\n",
       "      <td>6.539409</td>\n",
       "      <td>7.089419</td>\n",
       "      <td>4.451714</td>\n",
       "      <td>54.880798</td>\n",
       "      <td>20.342562</td>\n",
       "      <td>0.507389</td>\n",
       "    </tr>\n",
       "    <tr>\n",
       "      <th>std</th>\n",
       "      <td>9.318475</td>\n",
       "      <td>4.050601</td>\n",
       "      <td>0.694005</td>\n",
       "      <td>1.039887</td>\n",
       "      <td>0.577748</td>\n",
       "      <td>0.554336</td>\n",
       "      <td>47.189538</td>\n",
       "      <td>7.358737</td>\n",
       "      <td>0.500192</td>\n",
       "    </tr>\n",
       "    <tr>\n",
       "      <th>min</th>\n",
       "      <td>68.000000</td>\n",
       "      <td>7.000000</td>\n",
       "      <td>0.670000</td>\n",
       "      <td>5.100000</td>\n",
       "      <td>6.120000</td>\n",
       "      <td>3.270000</td>\n",
       "      <td>4.360000</td>\n",
       "      <td>8.000000</td>\n",
       "      <td>0.000000</td>\n",
       "    </tr>\n",
       "    <tr>\n",
       "      <th>25%</th>\n",
       "      <td>78.000000</td>\n",
       "      <td>14.000000</td>\n",
       "      <td>0.820000</td>\n",
       "      <td>5.700000</td>\n",
       "      <td>6.600000</td>\n",
       "      <td>4.095000</td>\n",
       "      <td>13.350000</td>\n",
       "      <td>14.450000</td>\n",
       "      <td>0.000000</td>\n",
       "    </tr>\n",
       "    <tr>\n",
       "      <th>50%</th>\n",
       "      <td>86.000000</td>\n",
       "      <td>17.590000</td>\n",
       "      <td>0.960000</td>\n",
       "      <td>5.900000</td>\n",
       "      <td>7.000000</td>\n",
       "      <td>4.450000</td>\n",
       "      <td>23.130000</td>\n",
       "      <td>20.000000</td>\n",
       "      <td>1.000000</td>\n",
       "    </tr>\n",
       "    <tr>\n",
       "      <th>75%</th>\n",
       "      <td>94.000000</td>\n",
       "      <td>19.420000</td>\n",
       "      <td>1.200000</td>\n",
       "      <td>7.400000</td>\n",
       "      <td>7.545000</td>\n",
       "      <td>4.855000</td>\n",
       "      <td>95.000000</td>\n",
       "      <td>25.400000</td>\n",
       "      <td>1.000000</td>\n",
       "    </tr>\n",
       "    <tr>\n",
       "      <th>max</th>\n",
       "      <td>105.000000</td>\n",
       "      <td>21.420000</td>\n",
       "      <td>21.420000</td>\n",
       "      <td>11.100000</td>\n",
       "      <td>8.230000</td>\n",
       "      <td>5.680000</td>\n",
       "      <td>147.000000</td>\n",
       "      <td>37.000000</td>\n",
       "      <td>1.000000</td>\n",
       "    </tr>\n",
       "  </tbody>\n",
       "</table>\n",
       "</div>"
      ],
      "text/plain": [
       "           Glucose  Blood urea nitrogen (BUN)   Creatinine      Calcium  \\\n",
       "count  1015.000000                1015.000000  1015.000000  1015.000000   \n",
       "mean     86.063645                  16.329034     1.048197     6.539409   \n",
       "std       9.318475                   4.050601     0.694005     1.039887   \n",
       "min      68.000000                   7.000000     0.670000     5.100000   \n",
       "25%      78.000000                  14.000000     0.820000     5.700000   \n",
       "50%      86.000000                  17.590000     0.960000     5.900000   \n",
       "75%      94.000000                  19.420000     1.200000     7.400000   \n",
       "max     105.000000                  21.420000    21.420000    11.100000   \n",
       "\n",
       "           Protein      Albumin  Alanine Phosphatase (ALP)  \\\n",
       "count  1015.000000  1015.000000                1015.000000   \n",
       "mean      7.089419     4.451714                  54.880798   \n",
       "std       0.577748     0.554336                  47.189538   \n",
       "min       6.120000     3.270000                   4.360000   \n",
       "25%       6.600000     4.095000                  13.350000   \n",
       "50%       7.000000     4.450000                  23.130000   \n",
       "75%       7.545000     4.855000                  95.000000   \n",
       "max       8.230000     5.680000                 147.000000   \n",
       "\n",
       "       Alanine amino transferase (ALT)  Predictions  \n",
       "count                      1015.000000  1015.000000  \n",
       "mean                         20.342562     0.507389  \n",
       "std                           7.358737     0.500192  \n",
       "min                           8.000000     0.000000  \n",
       "25%                          14.450000     0.000000  \n",
       "50%                          20.000000     1.000000  \n",
       "75%                          25.400000     1.000000  \n",
       "max                          37.000000     1.000000  "
      ]
     },
     "execution_count": 7,
     "metadata": {},
     "output_type": "execute_result"
    }
   ],
   "source": [
    "data_meta.describe()"
   ]
  },
  {
   "cell_type": "code",
   "execution_count": 8,
   "id": "6f6c3342",
   "metadata": {},
   "outputs": [
    {
     "data": {
      "text/plain": [
       "Glucose                            0\n",
       "Blood urea nitrogen (BUN)          0\n",
       "Creatinine                         0\n",
       "BUN/Creatinine ratio               0\n",
       "Calcium                            0\n",
       "Protein                            0\n",
       "Albumin                            0\n",
       "Alanine Phosphatase (ALP)          0\n",
       "Alanine amino transferase (ALT)    0\n",
       "Predictions                        0\n",
       "dtype: int64"
      ]
     },
     "execution_count": 8,
     "metadata": {},
     "output_type": "execute_result"
    }
   ],
   "source": [
    "data_meta.isnull().sum()"
   ]
  },
  {
   "cell_type": "code",
   "execution_count": 9,
   "id": "a4c85ec7",
   "metadata": {},
   "outputs": [
    {
     "data": {
      "text/plain": [
       "array([1, 0], dtype=int64)"
      ]
     },
     "execution_count": 9,
     "metadata": {},
     "output_type": "execute_result"
    }
   ],
   "source": [
    "data_meta['Predictions'].unique()"
   ]
  },
  {
   "cell_type": "code",
   "execution_count": 10,
   "id": "f868260f",
   "metadata": {},
   "outputs": [
    {
     "data": {
      "text/plain": [
       "Glucose                            float64\n",
       "Blood urea nitrogen (BUN)          float64\n",
       "Creatinine                         float64\n",
       "BUN/Creatinine ratio                object\n",
       "Calcium                            float64\n",
       "Protein                            float64\n",
       "Albumin                            float64\n",
       "Alanine Phosphatase (ALP)          float64\n",
       "Alanine amino transferase (ALT)    float64\n",
       "Predictions                          int64\n",
       "dtype: object"
      ]
     },
     "execution_count": 10,
     "metadata": {},
     "output_type": "execute_result"
    }
   ],
   "source": [
    "data_meta.dtypes"
   ]
  },
  {
   "cell_type": "code",
   "execution_count": 11,
   "id": "538216b1",
   "metadata": {},
   "outputs": [
    {
     "data": {
      "text/plain": [
       "1    515\n",
       "0    500\n",
       "Name: Predictions, dtype: int64"
      ]
     },
     "execution_count": 11,
     "metadata": {},
     "output_type": "execute_result"
    }
   ],
   "source": [
    "data_meta['Predictions'].value_counts()"
   ]
  },
  {
   "cell_type": "code",
   "execution_count": 12,
   "id": "e017589f",
   "metadata": {},
   "outputs": [
    {
     "data": {
      "text/plain": [
       "<AxesSubplot:>"
      ]
     },
     "execution_count": 12,
     "metadata": {},
     "output_type": "execute_result"
    },
    {
     "data": {
      "image/png": "[encoded data removed]",
      "text/plain": [
       "<Figure size 432x288 with 2 Axes>"
      ]
     },
     "metadata": {
      "needs_background": "light"
     },
     "output_type": "display_data"
    }
   ],
   "source": [
    "sns.heatmap(data_meta.corr(), annot=True)"
   ]
  },
  {
   "cell_type": "markdown",
   "id": "fb224ade",
   "metadata": {},
   "source": [
    "## Seperating feature and target label"
   ]
  },
  {
   "cell_type": "code",
   "execution_count": 13,
   "id": "365393e5",
   "metadata": {},
   "outputs": [],
   "source": [
    "features = data_meta[['Glucose', 'Blood urea nitrogen (BUN)', 'Creatinine', 'Protein', 'Albumin',\n",
    "       'Alanine Phosphatase (ALP)', 'Alanine amino transferase (ALT)',]]\n",
    "target = data_meta['Predictions']\n",
    "predictions = data_meta['Predictions']"
   ]
  },
  {
   "cell_type": "code",
   "execution_count": 14,
   "id": "7f5a2671",
   "metadata": {},
   "outputs": [],
   "source": [
    "acc = []\n",
    "model = []"
   ]
  },
  {
   "cell_type": "code",
   "execution_count": 15,
   "id": "a733c9c3",
   "metadata": {},
   "outputs": [],
   "source": [
    "from sklearn.model_selection import train_test_split\n",
    "Xtrain, Xtest, Ytrain, Ytest = train_test_split(features,target,test_size = 0.2,random_state =2)"
   ]
  },
  {
   "cell_type": "markdown",
   "id": "a8b9fd41",
   "metadata": {},
   "source": [
    "# Decision Tree"
   ]
  },
  {
   "cell_type": "code",
   "execution_count": 16,
   "id": "e27e5434",
   "metadata": {},
   "outputs": [
    {
     "name": "stdout",
     "output_type": "stream",
     "text": [
      "DecisionTrees's Accuracy is:  100.0\n",
      "              precision    recall  f1-score   support\n",
      "\n",
      "           0       1.00      1.00      1.00       105\n",
      "           1       1.00      1.00      1.00        98\n",
      "\n",
      "    accuracy                           1.00       203\n",
      "   macro avg       1.00      1.00      1.00       203\n",
      "weighted avg       1.00      1.00      1.00       203\n",
      "\n"
     ]
    }
   ],
   "source": [
    "from sklearn.tree import DecisionTreeClassifier\n",
    "\n",
    "DecisionTree = DecisionTreeClassifier(criterion=\"entropy\",random_state=2,max_depth=5)\n",
    "\n",
    "DecisionTree.fit(Xtrain,Ytrain)\n",
    "\n",
    "predicted_values = DecisionTree.predict(Xtest)\n",
    "x = metrics.accuracy_score(Ytest, predicted_values)\n",
    "acc.append(x)\n",
    "model.append('Decision Tree')\n",
    "print(\"DecisionTrees's Accuracy is: \", x*100)\n",
    "\n",
    "print(classification_report(Ytest,predicted_values))"
   ]
  },
  {
   "cell_type": "code",
   "execution_count": 17,
   "id": "b36bc924",
   "metadata": {},
   "outputs": [],
   "source": [
    "from sklearn.model_selection import cross_val_score"
   ]
  },
  {
   "cell_type": "code",
   "execution_count": 18,
   "id": "9c5bd2ce",
   "metadata": {},
   "outputs": [],
   "source": [
    "#Cross validation score (Decision Tree)\n",
    "score = cross_val_score(DecisionTree, features, target, cv=5)"
   ]
  },
  {
   "cell_type": "code",
   "execution_count": 19,
   "id": "eca1a8b3",
   "metadata": {},
   "outputs": [
    {
     "data": {
      "text/plain": [
       "array([1., 1., 1., 1., 1.])"
      ]
     },
     "execution_count": 19,
     "metadata": {},
     "output_type": "execute_result"
    }
   ],
   "source": [
    "score"
   ]
  },
  {
   "cell_type": "markdown",
   "id": "1bd7613e",
   "metadata": {},
   "source": [
    "### Saving Model DecisionTree"
   ]
  },
  {
   "cell_type": "code",
   "execution_count": null,
   "id": "1306ca2a",
   "metadata": {},
   "outputs": [],
   "source": [
    "#run this cell when model is good!!\n",
    "import pickle\n",
    "# Dump the trained Naive Bayes classifier with Pickle\n",
    "DT_pkl_filename = '../models/DecisionTree.pkl'\n",
    "# Open the file to save as pkl file\n",
    "DT_Model_pkl = open(DT_pkl_filename, 'wb')\n",
    "pickle.dump(DecisionTree, DT_Model_pkl)\n",
    "# Close the pickle instances\n",
    "DT_Model_pkl.close()"
   ]
  },
  {
   "cell_type": "markdown",
   "id": "e9ec700c",
   "metadata": {},
   "source": [
    "# Gaussian Naive Bayes"
   ]
  },
  {
   "cell_type": "code",
   "execution_count": 20,
   "id": "413918ef",
   "metadata": {},
   "outputs": [
    {
     "name": "stdout",
     "output_type": "stream",
     "text": [
      "Naive Bayes's Accuracy is:  0.9950738916256158\n",
      "              precision    recall  f1-score   support\n",
      "\n",
      "           0       0.99      1.00      1.00       105\n",
      "           1       1.00      0.99      0.99        98\n",
      "\n",
      "    accuracy                           1.00       203\n",
      "   macro avg       1.00      0.99      1.00       203\n",
      "weighted avg       1.00      1.00      1.00       203\n",
      "\n"
     ]
    }
   ],
   "source": [
    "from sklearn.naive_bayes import GaussianNB\n",
    "\n",
    "NaiveBayes = GaussianNB()\n",
    "\n",
    "NaiveBayes.fit(Xtrain,Ytrain)\n",
    "\n",
    "predicted_values = NaiveBayes.predict(Xtest)\n",
    "x = metrics.accuracy_score(Ytest, predicted_values)\n",
    "acc.append(x)\n",
    "model.append('Naive Bayes')\n",
    "print(\"Naive Bayes's Accuracy is: \", x)\n",
    "\n",
    "print(classification_report(Ytest,predicted_values))"
   ]
  },
  {
   "cell_type": "code",
   "execution_count": 21,
   "id": "580c8288",
   "metadata": {},
   "outputs": [
    {
     "data": {
      "text/plain": [
       "array([1.        , 1.        , 0.99507389, 1.        , 1.        ])"
      ]
     },
     "execution_count": 21,
     "metadata": {},
     "output_type": "execute_result"
    }
   ],
   "source": [
    "# Cross validation score (NaiveBayes)\n",
    "score = cross_val_score(NaiveBayes,features,target,cv=5)\n",
    "score"
   ]
  },
  {
   "cell_type": "markdown",
   "id": "8d4f7c10",
   "metadata": {},
   "source": [
    "### Saving Model Gaussian Naive Bayes"
   ]
  },
  {
   "cell_type": "code",
   "execution_count": null,
   "id": "a13ea5d5",
   "metadata": {},
   "outputs": [],
   "source": [
    "#run this cell when model is good!!\n",
    "import pickle\n",
    "# Dump the trained Naive Bayes classifier with Pickle\n",
    "NB_pkl_filename = '../models/NBClassifier.pkl'\n",
    "# Open the file to save as pkl file\n",
    "NB_Model_pkl = open(NB_pkl_filename, 'wb')\n",
    "pickle.dump(NaiveBayes, NB_Model_pkl)\n",
    "# Close the pickle instances\n",
    "NB_Model_pkl.close()"
   ]
  },
  {
   "cell_type": "markdown",
   "id": "44971586",
   "metadata": {},
   "source": [
    "# Support Vector Machine (SVM)"
   ]
  },
  {
   "cell_type": "code",
   "execution_count": 22,
   "id": "c4474ead",
   "metadata": {},
   "outputs": [
    {
     "name": "stdout",
     "output_type": "stream",
     "text": [
      "SVM's Accuracy is:  0.9950738916256158\n",
      "              precision    recall  f1-score   support\n",
      "\n",
      "           0       0.99      1.00      1.00       105\n",
      "           1       1.00      0.99      0.99        98\n",
      "\n",
      "    accuracy                           1.00       203\n",
      "   macro avg       1.00      0.99      1.00       203\n",
      "weighted avg       1.00      1.00      1.00       203\n",
      "\n"
     ]
    }
   ],
   "source": [
    "from sklearn.svm import SVC\n",
    "# data normalization with sklearn\n",
    "from sklearn.preprocessing import MinMaxScaler\n",
    "# fit scaler on training data\n",
    "norm = MinMaxScaler().fit(Xtrain)\n",
    "X_train_norm = norm.transform(Xtrain)\n",
    "# transform testing dataabs\n",
    "X_test_norm = norm.transform(Xtest)\n",
    "SVM = SVC(kernel='poly', degree=3, C=1)\n",
    "SVM.fit(X_train_norm,Ytrain)\n",
    "predicted_values = SVM.predict(X_test_norm)\n",
    "x = metrics.accuracy_score(Ytest, predicted_values)\n",
    "acc.append(x)\n",
    "model.append('SVM')\n",
    "print(\"SVM's Accuracy is: \", x)\n",
    "\n",
    "print(classification_report(Ytest,predicted_values))"
   ]
  },
  {
   "cell_type": "code",
   "execution_count": 23,
   "id": "f0b7e9fd",
   "metadata": {},
   "outputs": [],
   "source": [
    "# Cross validation score (SVM)\n",
    "score = cross_val_score(SVM,features,target,cv=5)"
   ]
  },
  {
   "cell_type": "code",
   "execution_count": 24,
   "id": "0f576f14",
   "metadata": {},
   "outputs": [
    {
     "data": {
      "text/plain": [
       "array([1., 1., 1., 1., 1.])"
      ]
     },
     "execution_count": 24,
     "metadata": {},
     "output_type": "execute_result"
    }
   ],
   "source": [
    "score"
   ]
  },
  {
   "cell_type": "markdown",
   "id": "af130f06",
   "metadata": {},
   "source": [
    "### Saving Model SVM "
   ]
  },
  {
   "cell_type": "code",
   "execution_count": null,
   "id": "c62a7d2c",
   "metadata": {},
   "outputs": [],
   "source": [
    "#run this cell when model is good!!\n",
    "import pickle\n",
    "# Dump the trained SVM classifier with Pickle\n",
    "SVM_pkl_filename = '../models/SVMClassifier.pkl'\n",
    "# Open the file to save as pkl file\n",
    "SVM_Model_pkl = open(SVM_pkl_filename, 'wb')\n",
    "pickle.dump(SVM, SVM_Model_pkl)\n",
    "# Close the pickle instances\n",
    "SVM_Model_pkl.close()"
   ]
  },
  {
   "cell_type": "markdown",
   "id": "aa7268a6",
   "metadata": {},
   "source": [
    "# Logistic Regression"
   ]
  },
  {
   "cell_type": "code",
   "execution_count": 25,
   "id": "d6999c9f",
   "metadata": {},
   "outputs": [
    {
     "name": "stdout",
     "output_type": "stream",
     "text": [
      "Logistic Regression's Accuracy is:  1.0\n",
      "              precision    recall  f1-score   support\n",
      "\n",
      "           0       1.00      1.00      1.00       105\n",
      "           1       1.00      1.00      1.00        98\n",
      "\n",
      "    accuracy                           1.00       203\n",
      "   macro avg       1.00      1.00      1.00       203\n",
      "weighted avg       1.00      1.00      1.00       203\n",
      "\n"
     ]
    }
   ],
   "source": [
    "from sklearn.linear_model import LogisticRegression\n",
    "\n",
    "LogReg = LogisticRegression(random_state=2)\n",
    "\n",
    "LogReg.fit(Xtrain,Ytrain)\n",
    "\n",
    "predicted_values = LogReg.predict(Xtest)\n",
    "\n",
    "x = metrics.accuracy_score(Ytest, predicted_values)\n",
    "acc.append(x)\n",
    "model.append('Logistic Regression')\n",
    "print(\"Logistic Regression's Accuracy is: \", x)\n",
    "\n",
    "print(classification_report(Ytest,predicted_values))"
   ]
  },
  {
   "cell_type": "code",
   "execution_count": 26,
   "id": "6526af9a",
   "metadata": {},
   "outputs": [],
   "source": [
    "# Cross validation score (Logistic Regression)\n",
    "score = cross_val_score(LogReg,features,target,cv=5)"
   ]
  },
  {
   "cell_type": "code",
   "execution_count": 27,
   "id": "77854f19",
   "metadata": {},
   "outputs": [
    {
     "data": {
      "text/plain": [
       "array([1., 1., 1., 1., 1.])"
      ]
     },
     "execution_count": 27,
     "metadata": {},
     "output_type": "execute_result"
    }
   ],
   "source": [
    "score"
   ]
  },
  {
   "cell_type": "markdown",
   "id": "10de1e8a",
   "metadata": {},
   "source": [
    "### Saving Model LR "
   ]
  },
  {
   "cell_type": "code",
   "execution_count": null,
   "id": "bed9fa45",
   "metadata": {},
   "outputs": [],
   "source": [
    "#run this cell when model is good\n",
    "import pickle\n",
    "# Dump the trained Naive Bayes classifier with Pickle\n",
    "LR_pkl_filename = '../models/LogisticRegression.pkl'\n",
    "# Open the file to save as pkl file\n",
    "LR_Model_pkl = open(DT_pkl_filename, 'wb')\n",
    "pickle.dump(LogReg, LR_Model_pkl)\n",
    "# Close the pickle instances\n",
    "LR_Model_pkl.close()"
   ]
  },
  {
   "cell_type": "markdown",
   "id": "70350ce4",
   "metadata": {},
   "source": [
    "# Random Forest"
   ]
  },
  {
   "cell_type": "code",
   "execution_count": 28,
   "id": "da79d0b4",
   "metadata": {},
   "outputs": [
    {
     "name": "stdout",
     "output_type": "stream",
     "text": [
      "RF's Accuracy is:  1.0\n",
      "              precision    recall  f1-score   support\n",
      "\n",
      "           0       1.00      1.00      1.00       105\n",
      "           1       1.00      1.00      1.00        98\n",
      "\n",
      "    accuracy                           1.00       203\n",
      "   macro avg       1.00      1.00      1.00       203\n",
      "weighted avg       1.00      1.00      1.00       203\n",
      "\n"
     ]
    }
   ],
   "source": [
    "from sklearn.ensemble import RandomForestClassifier\n",
    "\n",
    "RF = RandomForestClassifier(n_estimators=20, random_state=0)\n",
    "RF.fit(Xtrain,Ytrain)\n",
    "\n",
    "predicted_values = RF.predict(Xtest)\n",
    "\n",
    "x = metrics.accuracy_score(Ytest, predicted_values)\n",
    "acc.append(x)\n",
    "model.append('RF')\n",
    "print(\"RF's Accuracy is: \", x)\n",
    "\n",
    "print(classification_report(Ytest,predicted_values))"
   ]
  },
  {
   "cell_type": "code",
   "execution_count": 29,
   "id": "17db457b",
   "metadata": {},
   "outputs": [],
   "source": [
    "# Cross validation score (Random Forest)\n",
    "score = cross_val_score(RF,features,target,cv=5)"
   ]
  },
  {
   "cell_type": "code",
   "execution_count": 30,
   "id": "1eed7264",
   "metadata": {},
   "outputs": [
    {
     "data": {
      "text/plain": [
       "array([1., 1., 1., 1., 1.])"
      ]
     },
     "execution_count": 30,
     "metadata": {},
     "output_type": "execute_result"
    }
   ],
   "source": [
    "score"
   ]
  },
  {
   "cell_type": "markdown",
   "id": "3b3fc150",
   "metadata": {},
   "source": [
    "### Saving Model Random Forest "
   ]
  },
  {
   "cell_type": "code",
   "execution_count": null,
   "id": "bc3d788e",
   "metadata": {},
   "outputs": [],
   "source": [
    "#run this cell when model is good!!\n",
    "import pickle\n",
    "# Dump the trained Naive Bayes classifier with Pickle\n",
    "RF_pkl_filename = '../models/RandomForest.pkl'\n",
    "# Open the file to save as pkl file\n",
    "RF_Model_pkl = open(RF_pkl_filename, 'wb')\n",
    "pickle.dump(RF, RF_Model_pkl)\n",
    "# Close the pickle instances\n",
    "RF_Model_pkl.close()"
   ]
  },
  {
   "cell_type": "markdown",
   "id": "13a5de96",
   "metadata": {},
   "source": [
    "# XGBoost"
   ]
  },
  {
   "cell_type": "code",
   "execution_count": 31,
   "id": "99c0ad4c",
   "metadata": {},
   "outputs": [
    {
     "name": "stdout",
     "output_type": "stream",
     "text": [
      "[23:49:49] WARNING: C:/Users/Administrator/workspace/xgboost-win64_release_1.5.1/src/learner.cc:1115: Starting in XGBoost 1.3.0, the default evaluation metric used with the objective 'binary:logistic' was changed from 'error' to 'logloss'. Explicitly set eval_metric if you'd like to restore the old behavior.\n",
      "XGBoost's Accuracy is:  1.0\n",
      "              precision    recall  f1-score   support\n",
      "\n",
      "           0       1.00      1.00      1.00       105\n",
      "           1       1.00      1.00      1.00        98\n",
      "\n",
      "    accuracy                           1.00       203\n",
      "   macro avg       1.00      1.00      1.00       203\n",
      "weighted avg       1.00      1.00      1.00       203\n",
      "\n"
     ]
    }
   ],
   "source": [
    "import xgboost as xgb\n",
    "XB = xgb.XGBClassifier()\n",
    "XB.fit(Xtrain,Ytrain)\n",
    "\n",
    "predicted_values = XB.predict(Xtest)\n",
    "\n",
    "x = metrics.accuracy_score(Ytest, predicted_values)\n",
    "acc.append(x)\n",
    "model.append('XGBoost')\n",
    "print(\"XGBoost's Accuracy is: \", x)\n",
    "\n",
    "print(classification_report(Ytest,predicted_values))"
   ]
  },
  {
   "cell_type": "code",
   "execution_count": 32,
   "id": "79c24a03",
   "metadata": {},
   "outputs": [
    {
     "name": "stdout",
     "output_type": "stream",
     "text": [
      "[23:49:52] WARNING: C:/Users/Administrator/workspace/xgboost-win64_release_1.5.1/src/learner.cc:1115: Starting in XGBoost 1.3.0, the default evaluation metric used with the objective 'binary:logistic' was changed from 'error' to 'logloss'. Explicitly set eval_metric if you'd like to restore the old behavior.\n",
      "[23:49:52] WARNING: C:/Users/Administrator/workspace/xgboost-win64_release_1.5.1/src/learner.cc:1115: Starting in XGBoost 1.3.0, the default evaluation metric used with the objective 'binary:logistic' was changed from 'error' to 'logloss'. Explicitly set eval_metric if you'd like to restore the old behavior.\n",
      "[23:49:52] WARNING: C:/Users/Administrator/workspace/xgboost-win64_release_1.5.1/src/learner.cc:1115: Starting in XGBoost 1.3.0, the default evaluation metric used with the objective 'binary:logistic' was changed from 'error' to 'logloss'. Explicitly set eval_metric if you'd like to restore the old behavior.\n",
      "[23:49:52] WARNING: C:/Users/Administrator/workspace/xgboost-win64_release_1.5.1/src/learner.cc:1115: Starting in XGBoost 1.3.0, the default evaluation metric used with the objective 'binary:logistic' was changed from 'error' to 'logloss'. Explicitly set eval_metric if you'd like to restore the old behavior.\n",
      "[23:49:52] WARNING: C:/Users/Administrator/workspace/xgboost-win64_release_1.5.1/src/learner.cc:1115: Starting in XGBoost 1.3.0, the default evaluation metric used with the objective 'binary:logistic' was changed from 'error' to 'logloss'. Explicitly set eval_metric if you'd like to restore the old behavior.\n"
     ]
    }
   ],
   "source": [
    "# Cross validation score (XGBoost)\n",
    "score = cross_val_score(XB,features,target,cv=5)"
   ]
  },
  {
   "cell_type": "code",
   "execution_count": 33,
   "id": "dce917e0",
   "metadata": {},
   "outputs": [
    {
     "data": {
      "text/plain": [
       "array([1., 1., 1., 1., 1.])"
      ]
     },
     "execution_count": 33,
     "metadata": {},
     "output_type": "execute_result"
    }
   ],
   "source": [
    "score"
   ]
  },
  {
   "cell_type": "markdown",
   "id": "8fd67698",
   "metadata": {},
   "source": [
    "### Saving Model XGBoost "
   ]
  },
  {
   "cell_type": "code",
   "execution_count": null,
   "id": "466cac95",
   "metadata": {},
   "outputs": [],
   "source": [
    "#run this cell when all the models are working\n",
    "import pickle\n",
    "# Dump the trained Naive Bayes classifier with Pickle\n",
    "XB_pkl_filename = '../models/XGBoost.pkl'\n",
    "# Open the file to save as pkl file\n",
    "XB_Model_pkl = open(XB_pkl_filename, 'wb')\n",
    "pickle.dump(XB, XB_Model_pkl)\n",
    "# Close the pickle instances\n",
    "XB_Model_pkl.close()"
   ]
  },
  {
   "cell_type": "markdown",
   "id": "3f77d01a",
   "metadata": {},
   "source": [
    "## Accuracy Comparison"
   ]
  },
  {
   "cell_type": "code",
   "execution_count": 34,
   "id": "ba635056",
   "metadata": {},
   "outputs": [
    {
     "data": {
      "text/plain": [
       "<AxesSubplot:title={'center':'Accuracy Comparison'}, xlabel='Accuracy', ylabel='Algorithm'>"
      ]
     },
     "execution_count": 34,
     "metadata": {},
     "output_type": "execute_result"
    },
    {
     "data": {
      "image/png": "[encoded data removed]",
      "text/plain": [
       "<Figure size 1000x500 with 1 Axes>"
      ]
     },
     "metadata": {
      "needs_background": "light"
     },
     "output_type": "display_data"
    }
   ],
   "source": [
    "plt.figure(figsize=[10,5],dpi = 100)\n",
    "plt.title('Accuracy Comparison')\n",
    "plt.xlabel('Accuracy')\n",
    "plt.ylabel('Algorithm')\n",
    "sns.barplot(x = acc,y = model,palette='dark')"
   ]
  },
  {
   "cell_type": "code",
   "execution_count": 35,
   "id": "30f8206d",
   "metadata": {},
   "outputs": [
    {
     "name": "stdout",
     "output_type": "stream",
     "text": [
      "Decision Tree --> 1.0\n",
      "Naive Bayes --> 0.9950738916256158\n",
      "SVM --> 0.9950738916256158\n",
      "Logistic Regression --> 1.0\n",
      "RF --> 1.0\n",
      "XGBoost --> 1.0\n"
     ]
    }
   ],
   "source": [
    "accuracy_models = dict(zip(model, acc))\n",
    "for k, v in accuracy_models.items():\n",
    "    print (k, '-->', v)"
   ]
  },
  {
   "cell_type": "markdown",
   "id": "5dc20da4",
   "metadata": {},
   "source": [
    "# Making Prediction"
   ]
  },
  {
   "cell_type": "code",
   "execution_count": 36,
   "id": "51d321a1",
   "metadata": {},
   "outputs": [
    {
     "name": "stdout",
     "output_type": "stream",
     "text": [
      "[0]\n"
     ]
    }
   ],
   "source": [
    "data = np.array([[72, 15.9, 1.3, 6.92, 5.02, 55, 18]])\n",
    "prediction = XB.predict(data)\n",
    "print(prediction)"
   ]
  },
  {
   "cell_type": "code",
   "execution_count": null,
   "id": "c8521d00",
   "metadata": {},
   "outputs": [],
   "source": []
  }
 ],
 "metadata": {
  "kernelspec": {
   "display_name": "Python 3 (ipykernel)",
   "language": "python",
   "name": "python3"
  },
  "language_info": {
   "codemirror_mode": {
    "name": "ipython",
    "version": 3
   },
   "file_extension": ".py",
   "mimetype": "text/x-python",
   "name": "python",
   "nbconvert_exporter": "python",
   "pygments_lexer": "ipython3",
   "version": "3.10.2"
  }
 },
 "nbformat": 4,
 "nbformat_minor": 5
}
